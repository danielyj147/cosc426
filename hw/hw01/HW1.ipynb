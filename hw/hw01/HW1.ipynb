{
 "cells": [
  {
   "cell_type": "markdown",
   "id": "fefb62c0-7322-4532-b271-16282e19e97b",
   "metadata": {},
   "source": [
    "# HW 1: Minimal Pair with Implicit Causality\n",
    "### COSC 426: Fall 2025, Colgate University\n",
    "\n",
    "Use this notebook to load in the results from your experiment, display them, and answer the question(s). Feel free to add as many code and markdown chunks as you would like in each of the sub-sections. \n",
    "\n",
    "**If you use any external resources (e.g., code snippets, reference articles), please cite them in comments or text!**"
   ]
  },
  {
   "cell_type": "markdown",
   "id": "78346716",
   "metadata": {},
   "source": [
    "## 1. How does the model's NP1 bias change with verb frequency? \n",
    "\n",
    "### My Plan\n",
    "I will use minimum pair with comparison by frequency column.\n",
    "\n",
    "For frequency column, I'll get the median frequency of the verbs, then will label \n",
    "pair as `frequent` if the verb's frequency is greater than the median and `not frequent` if it is less than the median.\n",
    "\n",
    "The sentence structures I will use for this task are\n",
    "\n",
    "1. \"Marry `verb` John becuase she ...\" // `NP1` biased\n",
    "2. \"Marry `verb` John becuase he ...\"  // `NP2` biased\n",
    "\n",
    "For comparison(\"un/expected\") column, \n",
    "\n",
    "- If the verb's NP1 > NP2, then the sentence with \"she\" is expected  \n",
    "- If the verb's NP2 > NP1, then the sentence with \"he\" is expected"
   ]
  },
  {
   "cell_type": "markdown",
   "id": "36a20c5e-a3a8-4302-bc2a-76e725f57911",
   "metadata": {},
   "source": [
    "### Setup and data loading\n",
    "In this section, load the data, import any packages or files, and define any functions you need."
   ]
  },
  {
   "cell_type": "code",
   "execution_count": 1,
   "id": "bbdeea4c",
   "metadata": {},
   "outputs": [],
   "source": [
    "import pandas as pd\n",
    "import utils"
   ]
  },
  {
   "cell_type": "code",
   "execution_count": null,
   "id": "30282156",
   "metadata": {},
   "outputs": [],
   "source": [
    "original_df = utils.read_data(fpath = \"data/data.xlsx\", sheet_name = \"data96subjects\", skiprows = 1)\n",
    "\n",
    "original_df.to_csv(\"data/original_data.tsv\", sep=\"\\t\", index=False) # Save as TSV. Not necessary\n",
    "\n",
    "df = utils.generate_dataset(original_df) # Generate the dataset\n",
    "df.to_csv(\"data/data.tsv\", sep=\"\\t\", index=False) # Save as TSV."
   ]
  },
  {
   "cell_type": "markdown",
   "id": "548cdf5d-4c0f-43f4-aa75-a62d176bf1f2",
   "metadata": {},
   "source": [
    "### Results from the experiment\n",
    "In this section, display the results required to answer your question. This can be in the format of a dataframe with just the required rows, or as a plot. "
   ]
  },
  {
   "cell_type": "code",
   "execution_count": 7,
   "id": "52953552",
   "metadata": {},
   "outputs": [
    {
     "data": {
      "text/html": [
       "<div>\n",
       "<style scoped>\n",
       "    .dataframe tbody tr th:only-of-type {\n",
       "        vertical-align: middle;\n",
       "    }\n",
       "\n",
       "    .dataframe tbody tr th {\n",
       "        vertical-align: top;\n",
       "    }\n",
       "\n",
       "    .dataframe thead th {\n",
       "        text-align: right;\n",
       "    }\n",
       "</style>\n",
       "<table border=\"1\" class=\"dataframe\">\n",
       "  <thead>\n",
       "    <tr style=\"text-align: right;\">\n",
       "      <th></th>\n",
       "      <th>model</th>\n",
       "      <th>bias</th>\n",
       "      <th>frequency</th>\n",
       "      <th>acc</th>\n",
       "      <th>diff</th>\n",
       "      <th>expected</th>\n",
       "      <th>unexpected</th>\n",
       "      <th>macrodiff</th>\n",
       "    </tr>\n",
       "  </thead>\n",
       "  <tbody>\n",
       "    <tr>\n",
       "      <th>0</th>\n",
       "      <td>distilbert/distilgpt2</td>\n",
       "      <td>NP1</td>\n",
       "      <td>frequent</td>\n",
       "      <td>0.000000</td>\n",
       "      <td>-0.108063</td>\n",
       "      <td>0.020622</td>\n",
       "      <td>0.128685</td>\n",
       "      <td>-0.108063</td>\n",
       "    </tr>\n",
       "    <tr>\n",
       "      <th>1</th>\n",
       "      <td>distilbert/distilgpt2</td>\n",
       "      <td>NP1</td>\n",
       "      <td>infrequent</td>\n",
       "      <td>0.000000</td>\n",
       "      <td>-0.123471</td>\n",
       "      <td>0.012061</td>\n",
       "      <td>0.135532</td>\n",
       "      <td>-0.123471</td>\n",
       "    </tr>\n",
       "    <tr>\n",
       "      <th>2</th>\n",
       "      <td>distilbert/distilgpt2</td>\n",
       "      <td>NP2</td>\n",
       "      <td>frequent</td>\n",
       "      <td>0.953488</td>\n",
       "      <td>0.095766</td>\n",
       "      <td>0.111352</td>\n",
       "      <td>0.015586</td>\n",
       "      <td>0.095766</td>\n",
       "    </tr>\n",
       "    <tr>\n",
       "      <th>3</th>\n",
       "      <td>distilbert/distilgpt2</td>\n",
       "      <td>NP2</td>\n",
       "      <td>infrequent</td>\n",
       "      <td>0.912281</td>\n",
       "      <td>0.112739</td>\n",
       "      <td>0.139033</td>\n",
       "      <td>0.026294</td>\n",
       "      <td>0.112739</td>\n",
       "    </tr>\n",
       "  </tbody>\n",
       "</table>\n",
       "</div>"
      ],
      "text/plain": [
       "                   model bias   frequency       acc      diff  expected  \\\n",
       "0  distilbert/distilgpt2  NP1    frequent  0.000000 -0.108063  0.020622   \n",
       "1  distilbert/distilgpt2  NP1  infrequent  0.000000 -0.123471  0.012061   \n",
       "2  distilbert/distilgpt2  NP2    frequent  0.953488  0.095766  0.111352   \n",
       "3  distilbert/distilgpt2  NP2  infrequent  0.912281  0.112739  0.139033   \n",
       "\n",
       "   unexpected  macrodiff  \n",
       "0    0.128685  -0.108063  \n",
       "1    0.135532  -0.123471  \n",
       "2    0.015586   0.095766  \n",
       "3    0.026294   0.112739  "
      ]
     },
     "execution_count": 7,
     "metadata": {},
     "output_type": "execute_result"
    }
   ],
   "source": [
    "result = pd.read_csv(\"results/results.tsv\", sep=\"\\t\", index_col=0)\n",
    "result.head()"
   ]
  },
  {
   "cell_type": "markdown",
   "id": "ff45c5e2-3ddf-45f1-a4ec-1384367be16b",
   "metadata": {},
   "source": [
    "### Discussion\n",
    "In this section, include a discussion of your results and how it pertains to the question(s) you picked. This section will likely only have markdown chunks"
   ]
  },
  {
   "cell_type": "markdown",
   "id": "1a8c23e8",
   "metadata": {},
   "source": [
    "The model's NP1 bias is slightly stronger when the verb is infrequent compared to when it's frequent. \n",
    "\n",
    "This is clear when looking at the diff values for the rows with an NP1 bias, where infrequent verbs show a score of -0.123, a more negative and thus stronger indicator of bias than the -0.108 score for frequent verbs. \n",
    "\n",
    "The same pattern holds true for the model's NP2 bias. The data shows a diff of 0.112 for infrequent NP2-biased verbs compared to 0.095 for frequent ones. Since a larger positive value signifies a stronger NP2 bias, this affirms the trend. So both biases are more pronounced when the model encounters less common verbs."
   ]
  },
  {
   "cell_type": "markdown",
   "id": "2af04899",
   "metadata": {},
   "source": [
    "---"
   ]
  },
  {
   "cell_type": "markdown",
   "id": "a564d1b1",
   "metadata": {},
   "source": [
    "## 2. Do activity verbs have a weaker NP1 bias than psychological verbs?\n",
    "\n",
    "I would have used analogous logic to build the dataset, creating minimal pairs that are compared by verb category.\n",
    "\n",
    "For the 'category' column, I would have labeled verbs with the semantic codes 'AgPat' or 'AgEvo' as 'activity', and those with 'ExpStim' or 'StimExp' as 'psychological'.\n",
    "\n",
    "The sentence structures I would have used for this task are:\n",
    "1.  \"Mary `verb` John because she...\"\n",
    "2.  \"Mary `verb` John because he...\"\n",
    "\n",
    "For the 'comparison' column, a sentence would be labeled 'expected' or 'unexpected' based on the verb's bias:\n",
    "* If a verb's NP1 score is greater than its NP2 score, the sentence with \"she\" is considered expected, and the one with \"he\" is unexpected.\n",
    "* If a verb's NP2 score is greater than its NP1 score, the sentence with \"he\" is considered expected, and the one with \"she\" is unexpected."
   ]
  }
 ],
 "metadata": {
  "kernelspec": {
   "display_name": "nlp",
   "language": "python",
   "name": "python3"
  },
  "language_info": {
   "codemirror_mode": {
    "name": "ipython",
    "version": 3
   },
   "file_extension": ".py",
   "mimetype": "text/x-python",
   "name": "python",
   "nbconvert_exporter": "python",
   "pygments_lexer": "ipython3",
   "version": "3.10.18"
  }
 },
 "nbformat": 4,
 "nbformat_minor": 5
}
