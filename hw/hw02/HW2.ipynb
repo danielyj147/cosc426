{
 "cells": [
  {
   "cell_type": "markdown",
   "id": "94ee5842-c203-41f1-94d0-32d2c5028428",
   "metadata": {},
   "source": [
    "## HW 2: Yoda-speak \n",
    "### COSC 426: Fall 2025, Colgate University\n",
    "\n",
    "Use this notebook to test your grammar, load in the results from your experiment, display them, and answer the question(s). Feel free to add as many code and markdown chunks as you would like in each of the sub-sections. \n",
    "\n",
    "**If you use any external resources (e.g., code snippets, reference articles), please cite them in comments or text!**"
   ]
  },
  {
   "cell_type": "markdown",
   "id": "d33d8cd1",
   "metadata": {},
   "source": [
    "SAE: VP PP & NP PP\n",
    "YS: PP VP & NP PP"
   ]
  },
  {
   "cell_type": "markdown",
   "id": "1ce518bf-db21-4bd6-8c98-3f7e375b2663",
   "metadata": {},
   "source": [
    "## Part 1: Writing the grammar for `yoda-speak`\n",
    "\n",
    "#### Testing sentences without Prepositional Phrases\n",
    "\n",
    "Use the following code chunk to verify that your grammar correctly parses the sentences without prepositional phrases. Make sure that: \n",
    "\n",
    "1. If an NP is SubjNP in SAE, it is also SubjNP in `yoda-speak`\n",
    "2. If an NP is ObjNP in SAE, it is also ObjNP in `yoda-speak`"
   ]
  },
  {
   "cell_type": "code",
   "execution_count": 2,
   "id": "7f368ff2-bba1-4179-a1c1-6b9fd6b25399",
   "metadata": {},
   "outputs": [
    {
     "name": "stdout",
     "output_type": "stream",
     "text": [
      "====================================================================================================\n",
      "SAE\n",
      "             ROOT                \n",
      "              |                   \n",
      "              S                  \n",
      "    __________|____               \n",
      "   |               VP            \n",
      "   |      _________|____          \n",
      " SubjNP  |            ObjNP      \n",
      "   |     |              |         \n",
      "   NP    |              NP       \n",
      "   |     |          ____|_____    \n",
      "Pronoun  TV       Det         N  \n",
      "   |     |         |          |   \n",
      "  you   seek      the       Force\n",
      "\n",
      "------------------------------------------------------------\n",
      "YODA\n"
     ]
    },
    {
     "ename": "FileNotFoundError",
     "evalue": "[Errno 2] No such file or directory: 'hw2_grammar_yoda.txt'",
     "output_type": "error",
     "traceback": [
      "\u001b[0;31m---------------------------------------------------------------------------\u001b[0m",
      "\u001b[0;31mFileNotFoundError\u001b[0m                         Traceback (most recent call last)",
      "Cell \u001b[0;32mIn[2], line 16\u001b[0m\n\u001b[1;32m     14\u001b[0m \u001b[38;5;28mprint\u001b[39m(\u001b[38;5;124m'\u001b[39m\u001b[38;5;124m--\u001b[39m\u001b[38;5;124m'\u001b[39m\u001b[38;5;241m*\u001b[39m\u001b[38;5;241m30\u001b[39m)\n\u001b[1;32m     15\u001b[0m \u001b[38;5;28mprint\u001b[39m(\u001b[38;5;124m'\u001b[39m\u001b[38;5;124mYODA\u001b[39m\u001b[38;5;124m'\u001b[39m)\n\u001b[0;32m---> 16\u001b[0m \u001b[43mHW2\u001b[49m\u001b[38;5;241;43m.\u001b[39;49m\u001b[43mprint_parses\u001b[49m\u001b[43m(\u001b[49m\u001b[43msent\u001b[49m\u001b[43m[\u001b[49m\u001b[38;5;124;43m'\u001b[39;49m\u001b[38;5;124;43myoda\u001b[39;49m\u001b[38;5;124;43m'\u001b[39;49m\u001b[43m]\u001b[49m\u001b[43m,\u001b[49m\u001b[43m \u001b[49m\u001b[38;5;124;43m'\u001b[39;49m\u001b[38;5;124;43mhw2_grammar_yoda.txt\u001b[39;49m\u001b[38;5;124;43m'\u001b[39;49m\u001b[43m)\u001b[49m\n",
      "File \u001b[0;32m~/Projects/cosc426-projects/cosc426/hw/hw02/HW2.py:79\u001b[0m, in \u001b[0;36mprint_parses\u001b[0;34m(sent, grammar_fname)\u001b[0m\n\u001b[1;32m     78\u001b[0m \u001b[38;5;28;01mdef\u001b[39;00m\u001b[38;5;250m \u001b[39m\u001b[38;5;21mprint_parses\u001b[39m(sent, grammar_fname):\n\u001b[0;32m---> 79\u001b[0m     parses \u001b[38;5;241m=\u001b[39m \u001b[43mparse_sentence\u001b[49m\u001b[43m(\u001b[49m\u001b[43mgrammar_fname\u001b[49m\u001b[43m,\u001b[49m\u001b[43m \u001b[49m\u001b[43msent\u001b[49m\u001b[43m \u001b[49m\u001b[43m)\u001b[49m\n\u001b[1;32m     81\u001b[0m     \u001b[38;5;28;01mfor\u001b[39;00m tree \u001b[38;5;129;01min\u001b[39;00m parses:\n\u001b[1;32m     82\u001b[0m         tree\u001b[38;5;241m.\u001b[39mpretty_print()\n",
      "File \u001b[0;32m~/Projects/cosc426-projects/cosc426/hw/hw02/HW2.py:69\u001b[0m, in \u001b[0;36mparse_sentence\u001b[0;34m(grammar_fname, sentence)\u001b[0m\n\u001b[1;32m     68\u001b[0m \u001b[38;5;28;01mdef\u001b[39;00m\u001b[38;5;250m \u001b[39m\u001b[38;5;21mparse_sentence\u001b[39m(grammar_fname: \u001b[38;5;28mstr\u001b[39m, sentence: \u001b[38;5;28mstr\u001b[39m):\n\u001b[0;32m---> 69\u001b[0m     \u001b[38;5;28;01mwith\u001b[39;00m \u001b[38;5;28;43mopen\u001b[39;49m\u001b[43m(\u001b[49m\u001b[43mgrammar_fname\u001b[49m\u001b[43m,\u001b[49m\u001b[43m \u001b[49m\u001b[38;5;124;43m'\u001b[39;49m\u001b[38;5;124;43mr\u001b[39;49m\u001b[38;5;124;43m'\u001b[39;49m\u001b[43m)\u001b[49m \u001b[38;5;28;01mas\u001b[39;00m f:\n\u001b[1;32m     70\u001b[0m         grammar \u001b[38;5;241m=\u001b[39m nltk\u001b[38;5;241m.\u001b[39mPCFG\u001b[38;5;241m.\u001b[39mfromstring(f\u001b[38;5;241m.\u001b[39mread())\n\u001b[1;32m     71\u001b[0m     \u001b[38;5;28;01mtry\u001b[39;00m:\n",
      "\u001b[0;31mFileNotFoundError\u001b[0m: [Errno 2] No such file or directory: 'hw2_grammar_yoda.txt'"
     ]
    }
   ],
   "source": [
    "import HW2\n",
    "\n",
    "sents = [{'sae': 'you seek the Force', 'yoda': 'the Force you seek'},\n",
    "         {'sae': 'the Jedi follow the path', 'yoda': 'the path the Jedi follow'},\n",
    "         {'sae': 'I teach you', 'yoda': 'you I teach'},\n",
    "         {'sae': 'the Jedi fight', 'yoda': 'fight the Jedi do'},\n",
    "         {'sae': 'you sleep', 'yoda': 'sleep you do'}\n",
    "        ]\n",
    "\n",
    "for sent in sents: \n",
    "    print('=='*50)\n",
    "    print('SAE')\n",
    "    HW2.print_parses(sent['sae'], 'hw2_grammar_sae.txt',)\n",
    "    print('--'*30)\n",
    "    print('YODA')\n",
    "    HW2.print_parses(sent['yoda'], 'hw2_grammar_yoda.txt')"
   ]
  },
  {
   "cell_type": "markdown",
   "id": "eeaf91bf-9d54-40d0-9b20-160c42b0a5d8",
   "metadata": {},
   "source": [
    "#### Testing sentences with Prepositional Phrases\n",
    "\n",
    "Use the following code chunk to verify that your grammar correctly parses the sentences with prepositional phrases. Make sure that: \n",
    "\n",
    "1. If an NP is SubjNP in SAE, it is also SubjNP in `yoda-speak`\n",
    "2. If an NP is ObjNP in SAE, it is also ObjNP in `yoda-speak`\n",
    "3. If a PP is the sister of the verb in SAE, it is also the sister of the verb in `yoda-speak`"
   ]
  },
  {
   "cell_type": "code",
   "execution_count": null,
   "id": "8a5ef6d4-5097-4389-b6e0-c2aeebaf74aa",
   "metadata": {},
   "outputs": [],
   "source": [
    "sents = [{'sae': 'the Jedi fight in the night', 'yoda': 'in the night fight the Jedi do'},\n",
    "         {'sae': 'the Jedi fight in the night in the rain', 'yoda': 'in the night in the rain fight the Jedi do'},\n",
    "         {'sae': 'the Jedi fight in the night in the rain', 'yoda': 'in the rain in the night fight the Jedi do'},\n",
    "         {'sae': 'the darkness in the night teach the Jedi', 'yoda': 'the Jedi the darkness in the night teach'},\n",
    "         {'sae': 'the Jedi seek the Force through the darkness', 'yoda': 'the Force through the darkness the Jedi seek'}\n",
    "        ]\n",
    "\n",
    "for sent in sents: \n",
    "    print('=='*50)\n",
    "    print('SAE')\n",
    "    HW2.print_parses(sent['sae'], 'hw2_grammar_sae.txt',)\n",
    "    print('--'*30)\n",
    "    print('YODA')\n",
    "    HW2.print_parses(sent['yoda'], 'hw2_grammar_yoda.txt')\n",
    "    "
   ]
  },
  {
   "cell_type": "markdown",
   "id": "5e58c981-d86c-4b6f-946a-53330640f6ae",
   "metadata": {},
   "source": [
    "## Part 2: Evaluate whether `distilgpt` treats sentences from `yoda-speak` as being grammatical\n",
    "\n",
    "In this section, include: \n",
    "\n",
    "* Code to create the evaluation data file (and a discussion if you choose to include additional sentences)\n",
    "* The results from your experiment. This can be in the format of a dataframe with just the required rows, or as a plot.\n",
    "* Discussion of the results"
   ]
  },
  {
   "cell_type": "markdown",
   "id": "ff9b5a43-aaa5-429e-b0be-db8ae9829c73",
   "metadata": {},
   "source": [
    "## Part 3: Finetune `distilgpt` on `yoda-speak` and evaluate it\n",
    "\n",
    "In this section, include: \n",
    "\n",
    "* Code to create the finetuning data file. \n",
    "* The results from your experiment. This can be in the format of a dataframe with just the required rows, or as a plot.\n",
    "* Discussion of the results"
   ]
  },
  {
   "cell_type": "markdown",
   "id": "645d9624-aedd-4f5a-a63a-80533245e3c5",
   "metadata": {},
   "source": [
    "## Part 4 (Optional): Train  `distilgpt` on `yoda-speak` from scratch and evaluate it.\n",
    "In this section, include: \n",
    "\n",
    "* Code to create the training data file.\n",
    "* The results from your experiment. This can be in the format of a dataframe with just the required rows, or as a plot.\n",
    "* Discussion of the results and the difference between training and finetuning"
   ]
  },
  {
   "cell_type": "code",
   "execution_count": null,
   "id": "c4fcf59b-9b0a-4598-9c18-a8d7fe54e626",
   "metadata": {},
   "outputs": [],
   "source": []
  }
 ],
 "metadata": {
  "kernelspec": {
   "display_name": "nlp",
   "language": "python",
   "name": "python3"
  },
  "language_info": {
   "codemirror_mode": {
    "name": "ipython",
    "version": 3
   },
   "file_extension": ".py",
   "mimetype": "text/x-python",
   "name": "python",
   "nbconvert_exporter": "python",
   "pygments_lexer": "ipython3",
   "version": "3.10.18"
  }
 },
 "nbformat": 4,
 "nbformat_minor": 5
}
