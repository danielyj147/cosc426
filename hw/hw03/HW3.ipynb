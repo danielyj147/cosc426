{
 "cells": [
  {
   "cell_type": "markdown",
   "id": "dd91e7f3-3db3-465f-8437-5c604d3f2494",
   "metadata": {},
   "source": [
    "## HW 3: Evaluating language models \n",
    "### COSC 426: Fall 2025, Colgate University\n",
    "\n",
    "Use this notebook to run your experiments for Part 1, load and display from your experiment from Part 2, and answer the questions in all parts. Feel free to add as many code and markdown chunks as you would like in each of the sub-sections. \n",
    "\n",
    "**If you use any external resources (e.g., code snippets, reference articles), please cite them in comments or text!**"
   ]
  },
  {
   "cell_type": "markdown",
   "id": "96443a87-57c4-4c18-a825-9e9aa8cd0f32",
   "metadata": {},
   "source": [
    "## Part 1: Train and evaluate bigram and trigram models \n",
    "\n",
    "In this section, include the experiments to train and evaluate bigram and trigram models. \n"
   ]
  },
  {
   "cell_type": "code",
   "execution_count": 55,
   "id": "ddc72e7b",
   "metadata": {},
   "outputs": [
    {
     "data": {
      "text/plain": [
       "<module 'HW3' from '/Users/jeong/Projects/cosc426-projects/cosc426/hw/hw03/HW3.py'>"
      ]
     },
     "execution_count": 55,
     "metadata": {},
     "output_type": "execute_result"
    }
   ],
   "source": [
    "import importlib\n",
    "import HW3 as h\n",
    "import pandas as pd\n",
    "importlib.reload(h) # to avoid constantly restarting the kernel"
   ]
  },
  {
   "cell_type": "code",
   "execution_count": 56,
   "id": "0d9358f0",
   "metadata": {},
   "outputs": [
    {
     "name": "stdout",
     "output_type": "stream",
     "text": [
      "Loading preprocessed tokens from cache: data/alice_in_wonderland_tokens.pkl\n",
      "Successfully processed data/alice_in_wonderland.txt. Token count: 49674\n",
      "\n",
      "Loading preprocessed tokens from cache: data/through_the_looking_glass_tokens.pkl\n",
      "Successfully processed data/through_the_looking_glass.txt. Token count: 57917\n",
      "\n",
      "Loading preprocessed tokens from cache: data/sherlock_holmes_tokens.pkl\n",
      "Successfully processed data/sherlock_holmes.txt. Token count: 161514\n",
      "\n"
     ]
    }
   ],
   "source": [
    "vocab = h.get_hf_vocab(modelname=\"distilgpt2\")\n",
    "\n",
    "# custom function to avoid reprocessing\n",
    "aiwl_model = h.preprocess_and_cache(\n",
    "    textfname=\"data/alice_in_wonderland.txt\", \n",
    "    lower=True, \n",
    "    tokenizer=h.hf_tokenize, \n",
    "    modelname=\"distilgpt2\",\n",
    "    vocab=vocab\n",
    ")\n",
    "\n",
    "ttlg_model = h.preprocess_and_cache(\n",
    "    textfname=\"data/through_the_looking_glass.txt\",\n",
    "    lower=True,\n",
    "    tokenizer=h.hf_tokenize,\n",
    "    modelname=\"distilgpt2\",\n",
    "    vocab=vocab\n",
    ")\n",
    "\n",
    "sh_model = h.preprocess_and_cache(\n",
    "    textfname=\"data/sherlock_holmes.txt\",\n",
    "    lower=True,\n",
    "    tokenizer=h.hf_tokenize,\n",
    "    modelname=\"distilgpt2\",\n",
    "    vocab=vocab\n",
    ")"
   ]
  },
  {
   "cell_type": "code",
   "execution_count": 57,
   "id": "7ad8c087",
   "metadata": {},
   "outputs": [],
   "source": [
    "vocab = h.get_hf_vocab('distilgpt2')\n",
    "bigram_model = h.train_ngram(aiwl_model, n=2, smooth=\"add-0.001\", vocab=vocab)\n",
    "trigram_model = h.train_ngram(aiwl_model, n=3, smooth=\"add-0.001\", vocab=vocab)"
   ]
  },
  {
   "cell_type": "code",
   "execution_count": 58,
   "id": "90bd4645",
   "metadata": {},
   "outputs": [
    {
     "name": "stdout",
     "output_type": "stream",
     "text": [
      "[Bigram:TTLG] Ave. Prob.: 0.0989622973179284\n",
      "[Trigram:TTLG] Ave. Prob.: 0.09500700045732034\n",
      "[Bigram:SH] Ave. Prob.: 0.050493337998232315\n",
      "[Trigram:SH] Ave. Prob.: 0.05724471734960672\n"
     ]
    }
   ],
   "source": [
    "bigram_eval_ttlg = h.evaluate(bigram_model, ttlg_model, n=2)\n",
    "trigram_eval_ttlg = h.evaluate(trigram_model, ttlg_model, n=3)\n",
    "\n",
    "bigram_eval_sh = h.evaluate(bigram_model, sh_model, n=2)\n",
    "trigram_eval_sh = h.evaluate(trigram_model, sh_model, n=3)\n",
    "\n",
    "print(f\"[Bigram:TTLG] Ave. Prob.: {bigram_eval_ttlg}\")\n",
    "print(f\"[Trigram:TTLG] Ave. Prob.: {trigram_eval_ttlg}\")\n",
    "print(f\"[Bigram:SH] Ave. Prob.: {bigram_eval_sh}\")\n",
    "print(f\"[Trigram:SH] Ave. Prob.: {trigram_eval_sh}\")"
   ]
  },
  {
   "cell_type": "markdown",
   "id": "aae12ba5",
   "metadata": {},
   "source": [
    "The performance difference between the triagram and the bigram is hard to determine since one model performce better in one text and the other performes better in another. But my expectation was that the triagram model would perform better in generalization since it has more context. "
   ]
  },
  {
   "cell_type": "code",
   "execution_count": 71,
   "id": "92145e8f",
   "metadata": {},
   "outputs": [
    {
     "name": "stdout",
     "output_type": "stream",
     "text": [
      "Starting N-gram model training and evaluation...\n",
      "Bigram model with k=1e-11 has validation prob 0.09051973762742835\n",
      "Trigram model with k=1e-11 has validation prob 0.11708230540289419\n",
      "----------------------------------------\n",
      "Bigram model with k=1e-10 has validation prob 0.09051970229802019\n",
      "Trigram model with k=1e-10 has validation prob 0.11708221788561665\n",
      "----------------------------------------\n",
      "Bigram model with k=1e-09 has validation prob 0.09051934901570798\n",
      "Trigram model with k=1e-09 has validation prob 0.11708134274445996\n",
      "----------------------------------------\n",
      "Bigram model with k=1e-08 has validation prob 0.09051581737107492\n",
      "Trigram model with k=1e-08 has validation prob 0.11707259450035541\n",
      "----------------------------------------\n",
      "Bigram model with k=1e-07 has validation prob 0.09048061825793245\n",
      "Trigram model with k=1e-07 has validation prob 0.11698542739667024\n",
      "----------------------------------------\n",
      "Bigram model with k=1e-06 has validation prob 0.09013987039292587\n",
      "Trigram model with k=1e-06 has validation prob 0.11614394870691387\n",
      "----------------------------------------\n",
      "Bigram model with k=1e-05 has validation prob 0.08752279414900413\n",
      "Trigram model with k=1e-05 has validation prob 0.10983662221953239\n",
      "----------------------------------------\n",
      "Bigram model with k=0.0001 has validation prob 0.07851260278984423\n",
      "Trigram model with k=0.0001 has validation prob 0.09072018000520657\n",
      "----------------------------------------\n",
      "Bigram model with k=0.001 has validation prob 0.06381974282718073\n",
      "Trigram model with k=0.001 has validation prob 0.0664555650567546\n",
      "----------------------------------------\n",
      "Bigram model with k=0.01 has validation prob 0.040731839459305676\n",
      "Trigram model with k=0.01 has validation prob 0.032130561116865984\n",
      "----------------------------------------\n",
      "Bigram model with k=0.1 has validation prob 0.012702764883173123\n",
      "Trigram model with k=0.1 has validation prob 0.006088729579674823\n",
      "----------------------------------------\n",
      "Bigram model with k=1 has validation prob 0.0017473129032722812\n",
      "Trigram model with k=1 has validation prob 0.0006814524212510596\n",
      "----------------------------------------\n",
      "Bigram model with k=10 has validation prob 0.0001915566137903887\n",
      "Trigram model with k=10 has validation prob 7.333208365699678e-05\n",
      "----------------------------------------\n",
      "Bigram model with k=100 has validation prob 2.8867070075178644e-05\n",
      "Trigram model with k=100 has validation prob 1.1742776902689873e-05\n",
      "----------------------------------------\n",
      "Bigram model with k=1000.0 has validation prob 1.2522932204810624e-05\n",
      "Trigram model with k=1000.0 has validation prob 5.575952300413387e-06\n",
      "----------------------------------------\n",
      "Bigram model with k=10000.0 has validation prob 1.08877622856682e-05\n",
      "Trigram model with k=10000.0 has validation prob 4.959190777602495e-06\n",
      "----------------------------------------\n",
      "Bigram model with k=100000.0 has validation prob 1.0724237728108862e-05\n",
      "Trigram model with k=100000.0 has validation prob 4.8975138345720065e-06\n",
      "----------------------------------------\n",
      "Bigram model with k=1000000.0 has validation prob 1.0707885196692231e-05\n",
      "Trigram model with k=1000000.0 has validation prob 4.8913461323613164e-06\n",
      "----------------------------------------\n",
      "Bigram model with k=10000000.0 has validation prob 1.070624994279391e-05\n",
      "Trigram model with k=10000000.0 has validation prob 4.890729362060981e-06\n",
      "----------------------------------------\n",
      "Bigram model with k=100000000.0 has validation prob 1.0706086417395736e-05\n",
      "Trigram model with k=100000000.0 has validation prob 4.89066768503061e-06\n",
      "----------------------------------------\n",
      "Bigram model with k=1000000000.0 has validation prob 1.0706070064856729e-05\n",
      "Trigram model with k=1000000000.0 has validation prob 4.8906615173272085e-06\n",
      "----------------------------------------\n",
      "Bigram model with k=10000000000.0 has validation prob 1.0706068429602947e-05\n",
      "Trigram model with k=10000000000.0 has validation prob 4.890660900556989e-06\n",
      "----------------------------------------\n",
      "Bigram model with k=100000000000.0 has validation prob 1.070606826607864e-05\n",
      "Trigram model with k=100000000000.0 has validation prob 4.8906608388804264e-06\n",
      "----------------------------------------\n",
      "Bigram model with k=1000000000000.0 has validation prob 1.0706068249725748e-05\n",
      "Trigram model with k=1000000000000.0 has validation prob 4.890660832712241e-06\n",
      "----------------------------------------\n",
      "Bigram model with k=10000000000000.0 has validation prob 1.0706068248088633e-05\n",
      "Trigram model with k=10000000000000.0 has validation prob 4.890660832095437e-06\n",
      "----------------------------------------\n",
      "Bigram model with k=100000000000000.0 has validation prob 1.0706068247923457e-05\n",
      "Trigram model with k=100000000000000.0 has validation prob 4.890660832033462e-06\n",
      "----------------------------------------\n",
      "Bigram model with k=1000000000000000.0 has validation prob 1.070606824790629e-05\n",
      "Trigram model with k=1000000000000000.0 has validation prob 4.890660832027337e-06\n",
      "----------------------------------------\n",
      "Bigram model with k=1e+16 has validation prob 1.0706068247904007e-05\n",
      "Trigram model with k=1e+16 has validation prob 4.8906608320261765e-06\n",
      "----------------------------------------\n",
      "Bigram model with k=1e+17 has validation prob 1.0706068247903958e-05\n",
      "Trigram model with k=1e+17 has validation prob 4.890660832026106e-06\n",
      "----------------------------------------\n",
      "========================================\n",
      "Best bigram model has k=1e-11 with validation prob 0.09051973762742835\n",
      "Best trigram model has k=1e-11 with validation prob 0.11708230540289419\n",
      "========================================\n"
     ]
    }
   ],
   "source": [
    "import matplotlib.pyplot as plt\n",
    "\n",
    "trainset = aiwl_model\n",
    "valset = ttlg_model[: int(0.2 * len(ttlg_model))] \n",
    "valset.extend(sh_model[: int(0.2 * len(sh_model))])\n",
    "\n",
    "ks = [1e-11, 1e-10, 1e-9, 1e-8, 1e-7, 1e-6, 1e-5, 1e-4, 1e-3, 1e-2, 1e-1, 1, 10, 100, 1e3, 1e4, 1e5, 1e6, 1e7, 1e8, 1e9, 1e10, 1e11, 1e12, 1e13, 1e14, 1e15, 1e16, 1e17]\n",
    "\n",
    "best_bigram_k = None\n",
    "best_trigram_k = None\n",
    "best_bigram = None \n",
    "best_trigram = None\n",
    "best_bigram_val_prob = float(\"-inf\")\n",
    "best_trigram_val_prob = float(\"-inf\")\n",
    "\n",
    "bigram_probs = []\n",
    "trigram_probs = []\n",
    "\n",
    "print(\"Starting N-gram model training and evaluation...\")\n",
    "for k in ks:\n",
    "    # Bigram\n",
    "    bigram_model = h.train_ngram(trainset, n=2, smooth=f\"add-{k}\", vocab=vocab)\n",
    "    bigram_val_prob = h.evaluate(bigram_model, valset, n=2)\n",
    "    bigram_probs.append(bigram_val_prob)\n",
    "\n",
    "    print(f\"Bigram model with k={k} has validation prob {bigram_val_prob}\")\n",
    "\n",
    "    if bigram_val_prob > best_bigram_val_prob:\n",
    "        best_bigram_val_prob = bigram_val_prob\n",
    "        best_bigram_k = k\n",
    "        best_bigram = bigram_model\n",
    "\n",
    "    # Trigram\n",
    "    trigram_model = h.train_ngram(trainset, n=3, smooth=f\"add-{k}\", vocab=vocab)\n",
    "    trigram_val_prob = h.evaluate(trigram_model, valset, n=3)\n",
    "    trigram_probs.append(trigram_val_prob)\n",
    "\n",
    "    print(f\"Trigram model with k={k} has validation prob {trigram_val_prob}\")\n",
    "\n",
    "    if trigram_val_prob > best_trigram_val_prob:\n",
    "        best_trigram_val_prob = trigram_val_prob\n",
    "        best_trigram_k = k\n",
    "        best_trigram = trigram_model\n",
    "    print(f\"{'-'*40}\")\n",
    "\n",
    "print(f\"{'='*40}\")\n",
    "print(f\"Best bigram model has k={best_bigram_k} with validation prob {best_bigram_val_prob}\")\n",
    "print(f\"Best trigram model has k={best_trigram_k} with validation prob {best_trigram_val_prob}\")\n",
    "print(f\"{'='*40}\")"
   ]
  },
  {
   "cell_type": "code",
   "execution_count": 72,
   "id": "e4eba7ef",
   "metadata": {},
   "outputs": [
    {
     "name": "stdout",
     "output_type": "stream",
     "text": [
      "Best bigram model has validation prob 0.09748144450630661\n",
      "Best trigram model has validation prob 0.1422654851828611\n"
     ]
    }
   ],
   "source": [
    "# Testing best models on test set\n",
    "testset = ttlg_model[int(0.2 * len(ttlg_model)) :]\n",
    "testset.extend(sh_model[int(0.2 * len(sh_model)) :])\n",
    "\n",
    "# Evaluate best bigram model\n",
    "best_bigram_val_prob = h.evaluate(best_bigram, testset, n=2)\n",
    "print(f\"Best bigram model has validation prob {best_bigram_val_prob}\")\n",
    "\n",
    "# Evaluate best trigram model\n",
    "best_trigram_val_prob = h.evaluate(best_trigram, testset, n=3)\n",
    "print(f\"Best trigram model has validation prob {best_trigram_val_prob}\")"
   ]
  },
  {
   "cell_type": "markdown",
   "id": "002cc65c",
   "metadata": {},
   "source": [
    "In this case, we can see that the best trigam model has higher validation probability than the best bigram model. "
   ]
  },
  {
   "cell_type": "code",
   "execution_count": 73,
   "id": "22e8b93d",
   "metadata": {},
   "outputs": [
    {
     "data": {
      "image/png": "[encoded data removed]",
      "text/plain": [
       "<Figure size 1200x800 with 1 Axes>"
      ]
     },
     "metadata": {},
     "output_type": "display_data"
    }
   ],
   "source": [
    "# I used AI to generate the plotting code\n",
    "# I decided to use log scale for x-axis to make it less sparse\n",
    "\n",
    "\n",
    "plt.figure(figsize=(12, 8))\n",
    "\n",
    "plt.plot(ks, bigram_probs, marker=\"o\", linestyle=\"-\", label=\"Bigram\")\n",
    "plt.plot(\n",
    "    ks, trigram_probs, marker=\"s\", linestyle=\"--\", label=\"Trigram\"\n",
    ")\n",
    "\n",
    "plt.xscale(\"log\")\n",
    "\n",
    "plt.axvline(\n",
    "    x=best_bigram_k,\n",
    "    color=\"c\",\n",
    "    linestyle=\":\",\n",
    "    label=f\"Best Bigram k ({best_bigram_k:.1e})\",\n",
    ")\n",
    "plt.axvline(\n",
    "    x=best_trigram_k,\n",
    "    color=\"m\",\n",
    "    linestyle=\":\",\n",
    "    label=f\"Best Trigram k ({best_trigram_k:.1e})\",\n",
    ")\n",
    "\n",
    "plt.xlabel(\"Smoothing Value (k) - Log Scale\")\n",
    "plt.ylabel(\"Validation Prob\")\n",
    "plt.title(\"Model Prob vs. Add-k Smoothing Value\")\n",
    "plt.legend()\n",
    "plt.grid(True, which=\"both\", ls=\"--\")\n",
    "\n",
    "plt.show()"
   ]
  },
  {
   "cell_type": "markdown",
   "id": "9f6d7be3",
   "metadata": {},
   "source": [
    "Both models' generalization performance seemed to decrease as k increased. Between 10^−4 and 10^2, the average validation probability decreased steeply as k increased, but after k reached around 10^2, it started to plateau, approaching a probability of zero.\n",
    "\n",
    "I chose a mixture of sherlock & thorugh the looking glass as the validation set because we want to select the k such that makes the model perform the best on the \"general\" text, not the training set. \n"
   ]
  },
  {
   "cell_type": "markdown",
   "id": "c259f82b-a926-43f3-9692-767130347103",
   "metadata": {},
   "source": [
    "## Part 2: Train and evaluate `distilgpt2` model\n",
    "\n",
    "In this part, load in the results from your trained `distilgpt2` model from NLPScholar, and evaluate the model. "
   ]
  },
  {
   "cell_type": "code",
   "execution_count": 46,
   "id": "e49f6506",
   "metadata": {},
   "outputs": [
    {
     "name": "stderr",
     "output_type": "stream",
     "text": [
      "[nltk_data] Downloading package punkt to /Users/jeong/nltk_data...\n",
      "[nltk_data]   Package punkt is already up-to-date!\n"
     ]
    }
   ],
   "source": [
    "import nltk\n",
    "nltk.download(\"punkt\")\n",
    "\n",
    "datafpath = \"data/alice_in_wonderland.txt\"\n",
    "\n",
    "def preprocess(textfname: str) -> list: # from lab4 w/o mark_ends\n",
    "    text = \"\"\n",
    "    result = []\n",
    "    with open(textfname) as f:\n",
    "        for line in f:\n",
    "            text += line\n",
    "\n",
    "    sents = nltk.sent_tokenize(text)\n",
    "    for sent in sents:\n",
    "        sent = sent.lower()\n",
    "        sent = sent.replace(\"\\n\", \" \")\n",
    "        result.append(sent)\n",
    "    return result\n",
    "\n",
    "sents = preprocess(datafpath)\n",
    "\n",
    "# randomization would've been better but adds unnecessary complexity\n",
    "train = sents[: int(0.8 * len(sents))] \n",
    "val = sents[int(0.8 * len(sents)) :]\n",
    "\n",
    "h.write_to_tsv(\"data/train.tsv\",[\"text\"], train)\n",
    "h.write_to_tsv(\"data/val.tsv\",[\"text\"], val)"
   ]
  },
  {
   "cell_type": "code",
   "execution_count": null,
   "id": "27467919",
   "metadata": {},
   "outputs": [],
   "source": [
    "# building data.tsv files\n",
    "\n",
    "aiwl_eval_data = preprocess(\"data/alice_in_wonderland.txt\")\n",
    "ttlg_eval_data = preprocess(\"data/through_the_looking_glass.txt\")\n",
    "sh_eval_data = preprocess(\"data/sherlock_holmes.txt\")\n",
    "columns = [\"sentid\", \"pairid\", \"comparison\", \"sentence\", \"title\"]\n",
    "\n",
    "datas = {\"aiwl\": aiwl_eval_data, \"ttlg\": ttlg_eval_data, \"sh\": sh_eval_data}\n",
    "rows = []\n",
    "pairid = 0\n",
    "sentid = 0\n",
    "for title, data in datas.items():\n",
    "    for i in range(len(data)):\n",
    "        sent = data[i]\n",
    "        comparison = \"expected\"\n",
    "        data[i] = [sentid, pairid, comparison, sent, title]\n",
    "        rows.append(data[i])\n",
    "    pairid += 1\n",
    "    sentid += 1\n",
    "\n",
    "h.write_to_tsv(\"data/data.tsv\", columns, rows)"
   ]
  },
  {
   "cell_type": "code",
   "execution_count": 48,
   "id": "2472a027",
   "metadata": {},
   "outputs": [],
   "source": [
    "df = pd.read_csv(\"predictions/train_predictions.tsv\", sep=\"\\t\")"
   ]
  },
  {
   "cell_type": "code",
   "execution_count": 49,
   "id": "1ea7d2f1",
   "metadata": {},
   "outputs": [],
   "source": [
    "aiwl_mean_prob = df[df[\"sentid\"] == 0]['prob'].mean()\n",
    "aiwl_mean_surp = df[df[\"sentid\"] == 0]['surp'].mean()\n",
    "ttlg_mean_prob = df[df[\"sentid\"] == 1]['prob'].mean()\n",
    "ttlg_mean_surp = df[df[\"sentid\"] == 1][\"surp\"].mean()\n",
    "sh_mean_prob = df[df[\"sentid\"] == 2]['prob'].mean()\n",
    "sh_mean_surp = df[df[\"sentid\"] == 2][\"surp\"].mean()"
   ]
  },
  {
   "cell_type": "code",
   "execution_count": 51,
   "id": "4bbdcc56",
   "metadata": {},
   "outputs": [
    {
     "name": "stdout",
     "output_type": "stream",
     "text": [
      "Alice in Wonderland - Mean Prob: 0.08008815998951664, Mean surp: 10.562219408561326\n",
      "Through the Looking Glass - Mean Prob: 0.08496458638858641, Mean surp: 10.629867986388843\n",
      "Sherlock Holmes - Mean Prob: 0.06842533830470568, Mean surp: 11.479169737072185\n"
     ]
    }
   ],
   "source": [
    "print(f\"Alice in Wonderland - Mean Prob: {aiwl_mean_prob}, Mean surp: {aiwl_mean_surp}\")\n",
    "print(f\"Through the Looking Glass - Mean Prob: {ttlg_mean_prob}, Mean surp: {ttlg_mean_surp}\")\n",
    "print(f\"Sherlock Holmes - Mean Prob: {sh_mean_prob}, Mean surp: {sh_mean_surp}\")"
   ]
  },
  {
   "cell_type": "markdown",
   "id": "6609da3d",
   "metadata": {},
   "source": [
    "The mean probabilty of the distilgpt2 model is lower than the bigram & trigram models on TTLG text. However, it has higher mean probability on SH.  \n",
    "\n",
    "For reference:\n",
    "```text\n",
    "[Bigram:TTLG] Ave. Prob.: 0.0989622973179284\n",
    "[Trigram:TTLG] Ave. Prob.: 0.09500700045732034\n",
    "[Bigram:SH] Ave. Prob.: 0.050493337998232315\n",
    "[Trigram:SH] Ave. Prob.: 0.05724471734960672\n",
    "```"
   ]
  },
  {
   "cell_type": "markdown",
   "id": "2a3e5180-baba-4983-9614-8699a17b2deb",
   "metadata": {},
   "source": [
    "## Part 3: Reflect on the role of tokenizer\n",
    "In this part, answer the question in `HW3.md` in markdown chunks. If you used external sources to find and make sense of this, please cite them!"
   ]
  },
  {
   "cell_type": "markdown",
   "id": "84fc9b32",
   "metadata": {},
   "source": [
    "While an nltk tokenizer divides text by words, distilgpt2's tokenizer chunks text into subword units. Therefore, the distilgpt2 model calculates probability based on these subwords. This becomes a problem for comparison because an ngram model trained with an nltk tokenizer calculates the probability of a whole word given a context of preceding words, not subwords.\n",
    "\n",
    "For example, for the word \"tokenization,\" an ngram model would calculate the single probability of P(\"tokenization\" | context). distilgpt2, however, might break the word into [\"token\", \"ization\"] and would instead calculate the probability of that sequence. To create a valid comparison, we must train the ngram models with the same subword tokens. This ensures all models are operating on identical units, allowing their performance to be compared fairly with the same metric."
   ]
  },
  {
   "cell_type": "markdown",
   "id": "7524849f-ba17-450e-88d6-2927644d0130",
   "metadata": {},
   "source": [
    "## Part 4 (Optional): Explore the effect of tokenizer and vocab on ngram model performance\n",
    "\n",
    "In this part, include the results from your experiments (if you choose to attempt this)"
   ]
  },
  {
   "cell_type": "markdown",
   "id": "395351a4",
   "metadata": {},
   "source": []
  }
 ],
 "metadata": {
  "kernelspec": {
   "display_name": ".venv",
   "language": "python",
   "name": "python3"
  },
  "language_info": {
   "codemirror_mode": {
    "name": "ipython",
    "version": 3
   },
   "file_extension": ".py",
   "mimetype": "text/x-python",
   "name": "python",
   "nbconvert_exporter": "python",
   "pygments_lexer": "ipython3",
   "version": "3.13.7"
  }
 },
 "nbformat": 4,
 "nbformat_minor": 5
}
