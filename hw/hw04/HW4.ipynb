{
 "cells": [
  {
   "cell_type": "markdown",
   "id": "bd94d006-85a8-4c99-86dc-75f81f2b5b88",
   "metadata": {},
   "source": [
    "# HW 4: Text Classification\n",
    "### COSC 426: Fall 2025, Colgate University\n",
    "\n",
    "Use this notebook to answer questions and load + display from your experiments. Feel free to add as many code and markdown chunks as you would like in each of the sub-sections. \n",
    "\n",
    "**If you use any external resources (e.g., code snippets, reference articles), please cite them in comments or text!**"
   ]
  },
  {
   "cell_type": "markdown",
   "id": "f96b9e1d-646a-49c2-8e2e-62b6c194d830",
   "metadata": {},
   "source": [
    "## Part 1: Train and evaluate `distilgpt` based Bayesian Classifier\n",
    "\n",
    "In this part, load in the probability estimates from your finetuned **language models**, use it to classify text, and display classification results. "
   ]
  },
  {
   "cell_type": "markdown",
   "id": "64288a30-d61e-4286-a12f-3ed8a5d50733",
   "metadata": {},
   "source": [
    "## Part 2: Train and evaluate a `distilgpt` based TextClassification model\n",
    "In this part, load in and display the results from your finetuned **TextClassification models**. "
   ]
  },
  {
   "cell_type": "markdown",
   "id": "fafec7b6-883b-47bd-8e51-2fc6ad8453fe",
   "metadata": {},
   "source": [
    "## Part 3: Reflect on the two approaches to classification\n",
    "\n",
    "In this part, answer the question in `HW4.md` in markdown chunks. If you used external sources to find and make sense of this, please cite them!"
   ]
  },
  {
   "cell_type": "markdown",
   "id": "0888814d-3dd3-4cf1-b109-c7b2676b7691",
   "metadata": {},
   "source": [
    "## Part 4 (Optional): Error analysis comparing the two approaches to classification\n",
    "\n",
    "In this part, include the results from your experiments (if you choose to attempt this)"
   ]
  }
 ],
 "metadata": {
  "kernelspec": {
   "display_name": "cosc410",
   "language": "python",
   "name": "cosc410"
  },
  "language_info": {
   "codemirror_mode": {
    "name": "ipython",
    "version": 3
   },
   "file_extension": ".py",
   "mimetype": "text/x-python",
   "name": "python",
   "nbconvert_exporter": "python",
   "pygments_lexer": "ipython3",
   "version": "3.10.16"
  }
 },
 "nbformat": 4,
 "nbformat_minor": 5
}
