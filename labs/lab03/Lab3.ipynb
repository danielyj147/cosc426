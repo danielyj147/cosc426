{
 "cells": [
  {
   "cell_type": "markdown",
   "id": "479c919f-474b-4e76-b5e3-592083bc3d5d",
   "metadata": {},
   "source": [
    "# Lab 3: Grammar writing\n",
    "### COSC 426: Fall 2025, Colgate University\n",
    "\n",
    "Use this notebook to answer the questions in `Lab3.md`. Make sure to include in this notebook all the tests you run to ensure that at each stage your grammar is correct. "
   ]
  },
  {
   "cell_type": "markdown",
   "id": "ad4d91b8-080a-4b55-b458-342cb98c90dc",
   "metadata": {},
   "source": [
    "## Part 0\n",
    "\n",
    "Run the following code chunks, and make sure you understand what these code chunks are doing, and the format of the output they generate.  "
   ]
  },
  {
   "cell_type": "code",
   "execution_count": 15,
   "id": "ae710c7a-e464-4f16-ba69-c674f2830777",
   "metadata": {},
   "outputs": [],
   "source": [
    "import Lab3\n",
    "import nltk\n",
    "import math"
   ]
  },
  {
   "cell_type": "code",
   "execution_count": 16,
   "id": "e41c3b46-e1d6-4c03-ba1c-423453fc90d2",
   "metadata": {},
   "outputs": [
    {
     "name": "stdout",
     "output_type": "stream",
     "text": [
      "prob:-10.766111939825723 \t sent: her friend ate the friend \n",
      "\n",
      "prob:-17.017650706821687 \t sent: the panda in my pajamas saw the panda \n",
      "\n",
      "prob:-67.0299608427894 \t sent: the friend in my friend in her sandwich in a pajamas in a pajamas ate her friend in my pajamas in the sandwich in the panda in my friend in my sandwich \n",
      "\n",
      "prob:-17.017650706821687 \t sent: her friend ate her panda in my friend \n",
      "\n",
      "prob:-17.017650706821687 \t sent: my pajamas in a panda ate a panda \n",
      "\n"
     ]
    }
   ],
   "source": [
    "grammar = Lab3.create_pcfg('starter_grammar.txt')\n",
    "sents = Lab3.generate_sentences(grammar, 5)\n",
    "\n",
    "for sent in sents:\n",
    "    print(f\"prob:{sent[1]} \\t sent: {sent[0]} \\n\")"
   ]
  },
  {
   "cell_type": "code",
   "execution_count": 17,
   "id": "5db043c2-3ef7-4b5c-a49c-1f5c5ffcdc4e",
   "metadata": {},
   "outputs": [
    {
     "name": "stdout",
     "output_type": "stream",
     "text": [
      "                                 ROOT                                     \n",
      "                                  |                                        \n",
      "                                  S                                       \n",
      "                    ______________|_________________________               \n",
      "                   NP                                       |             \n",
      "      _____________|________                                |              \n",
      "     |                      PP                              |             \n",
      "     |          ____________|_____                          |              \n",
      "     |         |                  NP                        |             \n",
      "     |         |        __________|____                     |              \n",
      "     |         |       |               PP                   VP            \n",
      "     |         |       |           ____|___              ___|___           \n",
      "     NP        |       NP         |        NP           |       NP        \n",
      "  ___|____     |    ___|____      |     ___|_____       |    ___|_____     \n",
      "Det       N    P  Det       N     P   Det        N      V  Det        N   \n",
      " |        |    |   |        |     |    |         |      |   |         |    \n",
      " a      panda  in  a      friend  in   a      sandwich ate  my     pajamas\n",
      "\n",
      "-23.26918947381765 \n",
      "\n",
      "                                 ROOT                                     \n",
      "                                  |                                        \n",
      "                                  S                                       \n",
      "                    ______________|_________________________               \n",
      "                   NP                                       |             \n",
      "                ___|___________________                     |              \n",
      "               NP                      |                    |             \n",
      "      _________|___                    |                    |              \n",
      "     |             PP                  PP                   VP            \n",
      "     |          ___|___            ____|___              ___|___           \n",
      "     NP        |       NP         |        NP           |       NP        \n",
      "  ___|____     |    ___|____      |     ___|_____       |    ___|_____     \n",
      "Det       N    P  Det       N     P   Det        N      V  Det        N   \n",
      " |        |    |   |        |     |    |         |      |   |         |    \n",
      " a      panda  in  a      friend  in   a      sandwich ate  my     pajamas\n",
      "\n",
      "-23.26918947381765 \n",
      "\n"
     ]
    }
   ],
   "source": [
    "sentence = 'a panda in a friend in a sandwich ate my pajamas'\n",
    "parses = list(Lab3.parse_sentence(\"starter_grammar.txt\", sentence))\n",
    "\n",
    "for tree in parses:\n",
    "    tree.pretty_print()\n",
    "    print(math.log2(tree.prob()), '\\n')"
   ]
  },
  {
   "cell_type": "code",
   "execution_count": 18,
   "id": "fb55f520-792f-43f4-a015-ea6ddf6a04ed",
   "metadata": {},
   "outputs": [],
   "source": [
    "def is_grammatical(grammar_fname, sent):\n",
    "    \"\"\"\n",
    "    Returns True if sentence is grammatical given grammar, False otherwise\n",
    "    \"\"\"\n",
    "    parses = list(Lab3.parse_sentence(grammar_fname, sent))\n",
    "    if len(parses) > 0:\n",
    "        return True\n",
    "    else:\n",
    "        return False\n",
    "    "
   ]
  },
  {
   "cell_type": "markdown",
   "id": "26dad29a-3e7b-47eb-81ea-c81934b2bad4",
   "metadata": {},
   "source": [
    "## Part 1\n",
    "\n",
    "Answer the questions in Part 1. Feel free to add as many markdown or code chunks as you need. \n"
   ]
  },
  {
   "cell_type": "markdown",
   "id": "cea34110",
   "metadata": {},
   "source": [
    "1. The panda, who is inside my friend ate my pajamamas while being inside of a sandwich\n",
    "2. The panda, who is inside my friend ate my pajamamas that is inside of a sandwitch. "
   ]
  },
  {
   "cell_type": "markdown",
   "id": "620ce53b",
   "metadata": {},
   "source": [
    "3. The frequency of how commonly the commoponents of a sentence occur, and the way in which the grammar expands to the terminal string influence the probability of that sentence. "
   ]
  },
  {
   "cell_type": "code",
   "execution_count": 19,
   "id": "834df86f",
   "metadata": {},
   "outputs": [
    {
     "name": "stdout",
     "output_type": "stream",
     "text": [
      "                                 ROOT                                     \n",
      "                                  |                                        \n",
      "                                  S                                       \n",
      "                __________________|______________                          \n",
      "               NP                                VP                       \n",
      "      _________|___                     _________|_________                \n",
      "     |             PP                  VP                  PP             \n",
      "     |          ___|___            ____|___             ___|___            \n",
      "     NP        |       NP         |        NP          |       NP         \n",
      "  ___|____     |    ___|____      |     ___|_____      |    ___|_____      \n",
      "Det       N    P  Det       N     V   Det        N     P  Det        N    \n",
      " |        |    |   |        |     |    |         |     |   |         |     \n",
      " a      panda  in  a      friend ate   my     pajamas  in  a      sandwich\n",
      "\n",
      "-24.403871656999975 \n",
      "\n",
      "                                 ROOT                                     \n",
      "                                  |                                        \n",
      "                                  S                                       \n",
      "                __________________|______________                          \n",
      "               |                                 VP                       \n",
      "               |                   ______________|_____                    \n",
      "               NP                 |                    NP                 \n",
      "      _________|___               |         ___________|___                \n",
      "     |             PP             |        |               PP             \n",
      "     |          ___|___           |        |            ___|___            \n",
      "     NP        |       NP         |        NP          |       NP         \n",
      "  ___|____     |    ___|____      |     ___|_____      |    ___|_____      \n",
      "Det       N    P  Det       N     V   Det        N     P  Det        N    \n",
      " |        |    |   |        |     |    |         |     |   |         |     \n",
      " a      panda  in  a      friend ate   my     pajamas  in  a      sandwich\n",
      "\n",
      "-24.403871656999975 \n",
      "\n"
     ]
    }
   ],
   "source": [
    "sentence = 'a panda in a friend ate my pajamas in a sandwich'\n",
    "parses = list(Lab3.parse_sentence(\"grammar1.txt\", sentence))\n",
    "\n",
    "for tree in parses:\n",
    "    tree.pretty_print()\n",
    "    print(math.log2(tree.prob()), '\\n')"
   ]
  },
  {
   "cell_type": "code",
   "execution_count": 20,
   "id": "d6a6f149",
   "metadata": {},
   "outputs": [
    {
     "name": "stdout",
     "output_type": "stream",
     "text": [
      "prob:-9.45600928033515 \t sent: the friend ate the panda \n",
      "\n",
      "prob:-9.45600928033515 \t sent: my pajamas ate her panda \n",
      "\n",
      "prob:-16.92994046866756 \t sent: a pajamas ate a sandwich in a friend \n",
      "\n",
      "prob:-16.92994046866756 \t sent: a pajamas in her pajamas ate a sandwich \n",
      "\n",
      "prob:-16.92994046866756 \t sent: her friend saw her pajamas in my friend \n",
      "\n",
      "prob:-9.45600928033515 \t sent: her friend ate my pajamas \n",
      "\n",
      "prob:-9.45600928033515 \t sent: my pajamas ate the pajamas \n",
      "\n",
      "prob:-9.45600928033515 \t sent: the pajamas saw my friend \n",
      "\n",
      "prob:-9.45600928033515 \t sent: my pajamas ate the friend \n",
      "\n",
      "prob:-9.45600928033515 \t sent: the friend ate a panda \n",
      "\n",
      "prob:-16.92994046866756 \t sent: the friend ate the sandwich in her panda \n",
      "\n",
      "prob:-9.45600928033515 \t sent: a panda ate a sandwich \n",
      "\n",
      "prob:-9.45600928033515 \t sent: my panda ate a friend \n",
      "\n",
      "prob:-9.45600928033515 \t sent: her sandwich ate a panda \n",
      "\n",
      "prob:-9.45600928033515 \t sent: a panda ate a panda \n",
      "\n",
      "prob:-9.45600928033515 \t sent: my sandwich ate the friend \n",
      "\n",
      "prob:-16.92994046866756 \t sent: a friend ate her panda in my panda \n",
      "\n",
      "prob:-9.45600928033515 \t sent: her sandwich ate a friend \n",
      "\n",
      "prob:-9.45600928033515 \t sent: my friend saw her sandwich \n",
      "\n",
      "prob:-9.45600928033515 \t sent: my panda ate my pajamas \n",
      "\n",
      "prob:-9.45600928033515 \t sent: her friend ate my sandwich \n",
      "\n",
      "prob:-9.45600928033515 \t sent: my sandwich ate a friend \n",
      "\n",
      "prob:-31.877802845332383 \t sent: a panda in the panda saw a sandwich in my friend in the pajamas \n",
      "\n",
      "prob:-9.45600928033515 \t sent: my pajamas ate a pajamas \n",
      "\n",
      "prob:-9.45600928033515 \t sent: the friend saw the panda \n",
      "\n"
     ]
    }
   ],
   "source": [
    "# 4.\n",
    "grammar1 = Lab3.create_pcfg('grammar1.txt')\n",
    "\n",
    "sentences = Lab3.generate_sentences(grammar1, 25)\n",
    "\n",
    "# Print the sentences lin by line\n",
    "for sent in sentences:\n",
    "    print(f\"prob:{sent[1]} \\t sent: {sent[0]} \\n\")\n"
   ]
  },
  {
   "cell_type": "code",
   "execution_count": 21,
   "id": "08d8abc0",
   "metadata": {},
   "outputs": [],
   "source": [
    "# 5. \n",
    "def is_grammatical(grammar_fname, sent):\n",
    "    \"\"\"\n",
    "    Returns True if sentence is grammatical given grammar, False otherwise\n",
    "    \"\"\"\n",
    "    parses = list(Lab3.parse_sentence(grammar_fname, sent))\n",
    "    if len(parses) > 0:\n",
    "        return True\n",
    "    else:\n",
    "        return False"
   ]
  },
  {
   "cell_type": "markdown",
   "id": "3d9bfbe5-ec5b-49af-b972-d590d3e0be66",
   "metadata": {},
   "source": [
    "## Part 2\n",
    "\n",
    "Answer the questions in Part 2. Feel free to add as many markdown or code chunks as you need. \n"
   ]
  },
  {
   "cell_type": "code",
   "execution_count": 59,
   "id": "627ffbd8",
   "metadata": {},
   "outputs": [
    {
     "data": {
      "text/plain": [
       "True"
      ]
     },
     "execution_count": 59,
     "metadata": {},
     "output_type": "execute_result"
    }
   ],
   "source": [
    "# Grammatical\n",
    "is_grammatical(\"grammar2.txt\", 'the panda existed')\n",
    "# is_grammatical(\"grammar2.txt\", 'the panda ate')\n",
    "# is_grammatical(\"grammar2.txt\", 'the panda ate the sandwich')\n",
    "# is_grammatical(\"grammar2.txt\", 'the sandwich saw the panda in my friend')\n",
    "# is_grammatical(\"grammar2.txt\", 'the sandwich in my friend died in the panda')\n",
    "# is_grammatical(\"grammar2.txt\", 'my friend vanished in the sandwich')\n",
    "# is_grammatical(\"grammar2.txt\", 'my friend saw the sandwich in the panda in my friend')"
   ]
  },
  {
   "cell_type": "code",
   "execution_count": 65,
   "id": "e96527d2",
   "metadata": {},
   "outputs": [
    {
     "data": {
      "text/plain": [
       "False"
      ]
     },
     "execution_count": 65,
     "metadata": {},
     "output_type": "execute_result"
    }
   ],
   "source": [
    "# Ungrammatical\n",
    "is_grammatical(\"grammar2.txt\", 'the panda vanished my friend')\n",
    "is_grammatical(\"grammar2.txt\", 'the sandwich existed the panda')\n",
    "is_grammatical(\"grammar2.txt\", 'my friend in the sandwich died the panda')\n",
    "is_grammatical(\"grammar2.txt\", 'the panda died the sandwich in my friend')\n"
   ]
  },
  {
   "cell_type": "markdown",
   "id": "d080df44-7ad3-4bc4-af61-c21886a5d92f",
   "metadata": {},
   "source": [
    "## Part 3\n",
    "\n",
    "Answer the questions in Part 3. Feel free to add as many markdown or code chunks as you need. \n"
   ]
  },
  {
   "cell_type": "markdown",
   "id": "6bdbd6bb-5bbd-43f5-9600-1c0d44ef43bf",
   "metadata": {},
   "source": [
    "## Part 4\n",
    "\n",
    "Answer the questions in Part 4. Feel free to add as many markdown or code chunks as you need. \n"
   ]
  },
  {
   "cell_type": "markdown",
   "id": "9978136a-10e0-4d16-945a-43c0497c5ba9",
   "metadata": {},
   "source": [
    "## Part 5\n",
    "\n",
    "Answer the questions in Part 5. Feel free to add as many markdown or code chunks as you need. \n"
   ]
  },
  {
   "cell_type": "markdown",
   "id": "772b41ba-3d9f-4dc9-b2f0-28cc84ffebc9",
   "metadata": {},
   "source": [
    "## Part 6\n",
    "\n",
    "Answer the questions in Part 6. Feel free to add as many markdown or code chunks as you need. \n"
   ]
  }
 ],
 "metadata": {
  "kernelspec": {
   "display_name": "nlp",
   "language": "python",
   "name": "python3"
  },
  "language_info": {
   "codemirror_mode": {
    "name": "ipython",
    "version": 3
   },
   "file_extension": ".py",
   "mimetype": "text/x-python",
   "name": "python",
   "nbconvert_exporter": "python",
   "pygments_lexer": "ipython3",
   "version": "3.10.18"
  }
 },
 "nbformat": 4,
 "nbformat_minor": 5
}
