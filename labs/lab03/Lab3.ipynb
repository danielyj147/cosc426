{
 "cells": [
  {
   "cell_type": "markdown",
   "id": "479c919f-474b-4e76-b5e3-592083bc3d5d",
   "metadata": {},
   "source": [
    "# Lab 3: Grammar writing\n",
    "### COSC 426: Fall 2025, Colgate University\n",
    "\n",
    "Use this notebook to answer the questions in `Lab3.md`. Make sure to include in this notebook all the tests you run to ensure that at each stage your grammar is correct. "
   ]
  },
  {
   "cell_type": "markdown",
   "id": "ad4d91b8-080a-4b55-b458-342cb98c90dc",
   "metadata": {},
   "source": [
    "## Part 0\n",
    "\n",
    "Run the following code chunks, and make sure you understand what these code chunks are doing, and the format of the output they generate.  "
   ]
  },
  {
   "cell_type": "code",
   "execution_count": 2,
   "id": "ae710c7a-e464-4f16-ba69-c674f2830777",
   "metadata": {},
   "outputs": [
    {
     "name": "stderr",
     "output_type": "stream",
     "text": [
      "[nltk_data] Error loading punkt: <urlopen error [Errno 8] nodename nor\n",
      "[nltk_data]     servname provided, or not known>\n"
     ]
    }
   ],
   "source": [
    "import Lab3\n",
    "import nltk\n",
    "import math"
   ]
  },
  {
   "cell_type": "code",
   "execution_count": 3,
   "id": "e41c3b46-e1d6-4c03-ba1c-423453fc90d2",
   "metadata": {},
   "outputs": [
    {
     "name": "stdout",
     "output_type": "stream",
     "text": [
      "prob:-28.275615742977084 \t sent: her sandwich saw the sandwich in the sandwich in her panda in a panda \n",
      "\n",
      "prob:-65.78484834495288 \t sent: her panda in a panda ate a sandwich in the friend in the pajamas in my sandwich in the sandwich in her panda in her pajamas in my panda in the pajamas \n",
      "\n",
      "prob:-54.52688330879747 \t sent: a friend ate a pajamas in a friend in the sandwich in my panda in the pajamas in the sandwich in her panda in a panda \n",
      "\n",
      "prob:-41.6087682755267 \t sent: her pajamas in a sandwich ate the friend in a sandwich in my friend in her pajamas in the pajamas \n",
      "\n",
      "prob:-17.017650706821687 \t sent: a pajamas in her pajamas ate the friend \n",
      "\n"
     ]
    }
   ],
   "source": [
    "grammar = Lab3.create_pcfg('starter_grammar.txt')\n",
    "sents = Lab3.generate_sentences(grammar, 5)\n",
    "\n",
    "for sent in sents:\n",
    "    print(f\"prob:{sent[1]} \\t sent: {sent[0]} \\n\")"
   ]
  },
  {
   "cell_type": "code",
   "execution_count": 4,
   "id": "5db043c2-3ef7-4b5c-a49c-1f5c5ffcdc4e",
   "metadata": {},
   "outputs": [
    {
     "name": "stdout",
     "output_type": "stream",
     "text": [
      "                                 ROOT                                     \n",
      "                                  |                                        \n",
      "                                  S                                       \n",
      "                    ______________|_________________________               \n",
      "                   NP                                       |             \n",
      "      _____________|________                                |              \n",
      "     |                      PP                              |             \n",
      "     |          ____________|_____                          |              \n",
      "     |         |                  NP                        |             \n",
      "     |         |        __________|____                     |              \n",
      "     |         |       |               PP                   VP            \n",
      "     |         |       |           ____|___              ___|___           \n",
      "     NP        |       NP         |        NP           |       NP        \n",
      "  ___|____     |    ___|____      |     ___|_____       |    ___|_____     \n",
      "Det       N    P  Det       N     P   Det        N      V  Det        N   \n",
      " |        |    |   |        |     |    |         |      |   |         |    \n",
      " a      panda  in  a      friend  in   a      sandwich ate  my     pajamas\n",
      "\n",
      "-23.26918947381765 \n",
      "\n",
      "                                 ROOT                                     \n",
      "                                  |                                        \n",
      "                                  S                                       \n",
      "                    ______________|_________________________               \n",
      "                   NP                                       |             \n",
      "                ___|___________________                     |              \n",
      "               NP                      |                    |             \n",
      "      _________|___                    |                    |              \n",
      "     |             PP                  PP                   VP            \n",
      "     |          ___|___            ____|___              ___|___           \n",
      "     NP        |       NP         |        NP           |       NP        \n",
      "  ___|____     |    ___|____      |     ___|_____       |    ___|_____     \n",
      "Det       N    P  Det       N     P   Det        N      V  Det        N   \n",
      " |        |    |   |        |     |    |         |      |   |         |    \n",
      " a      panda  in  a      friend  in   a      sandwich ate  my     pajamas\n",
      "\n",
      "-23.26918947381765 \n",
      "\n"
     ]
    }
   ],
   "source": [
    "sentence = 'a panda in a friend in a sandwich ate my pajamas'\n",
    "parses = list(Lab3.parse_sentence(\"starter_grammar.txt\", sentence))\n",
    "\n",
    "for tree in parses:\n",
    "    tree.pretty_print()\n",
    "    print(math.log2(tree.prob()), '\\n')"
   ]
  },
  {
   "cell_type": "code",
   "execution_count": 5,
   "id": "fb55f520-792f-43f4-a015-ea6ddf6a04ed",
   "metadata": {},
   "outputs": [],
   "source": [
    "def is_grammatical(grammar_fname, sent):\n",
    "    \"\"\"\n",
    "    Returns True if sentence is grammatical given grammar, False otherwise\n",
    "    \"\"\"\n",
    "    parses = list(Lab3.parse_sentence(grammar_fname, sent))\n",
    "    if len(parses) > 0:\n",
    "        return True\n",
    "    else:\n",
    "        return False\n",
    "    "
   ]
  },
  {
   "cell_type": "markdown",
   "id": "26dad29a-3e7b-47eb-81ea-c81934b2bad4",
   "metadata": {},
   "source": [
    "## Part 1\n",
    "\n",
    "Answer the questions in Part 1. Feel free to add as many markdown or code chunks as you need. \n"
   ]
  },
  {
   "cell_type": "markdown",
   "id": "cea34110",
   "metadata": {},
   "source": [
    "1. The panda, who is inside my friend ate my pajamamas while being inside of a sandwich\n",
    "2. The panda, who is inside my friend ate my pajamamas that is inside of a sandwitch. "
   ]
  },
  {
   "cell_type": "markdown",
   "id": "620ce53b",
   "metadata": {},
   "source": [
    "3. The frequency of how commonly the commoponents of a sentence occur, and the way in which the grammar expands to the terminal string influence the probability of that sentence. "
   ]
  },
  {
   "cell_type": "code",
   "execution_count": 6,
   "id": "834df86f",
   "metadata": {},
   "outputs": [
    {
     "name": "stdout",
     "output_type": "stream",
     "text": [
      "                                 ROOT                                     \n",
      "                                  |                                        \n",
      "                                  S                                       \n",
      "                __________________|______________                          \n",
      "               NP                                VP                       \n",
      "      _________|___                     _________|_________                \n",
      "     |             PP                  VP                  PP             \n",
      "     |          ___|___            ____|___             ___|___            \n",
      "     NP        |       NP         |        NP          |       NP         \n",
      "  ___|____     |    ___|____      |     ___|_____      |    ___|_____      \n",
      "Det       N    P  Det       N     V   Det        N     P  Det        N    \n",
      " |        |    |   |        |     |    |         |     |   |         |     \n",
      " a      panda  in  a      friend ate   my     pajamas  in  a      sandwich\n",
      "\n",
      "-24.403871656999975 \n",
      "\n",
      "                                 ROOT                                     \n",
      "                                  |                                        \n",
      "                                  S                                       \n",
      "                __________________|______________                          \n",
      "               |                                 VP                       \n",
      "               |                   ______________|_____                    \n",
      "               NP                 |                    NP                 \n",
      "      _________|___               |         ___________|___                \n",
      "     |             PP             |        |               PP             \n",
      "     |          ___|___           |        |            ___|___            \n",
      "     NP        |       NP         |        NP          |       NP         \n",
      "  ___|____     |    ___|____      |     ___|_____      |    ___|_____      \n",
      "Det       N    P  Det       N     V   Det        N     P  Det        N    \n",
      " |        |    |   |        |     |    |         |     |   |         |     \n",
      " a      panda  in  a      friend ate   my     pajamas  in  a      sandwich\n",
      "\n",
      "-24.403871656999975 \n",
      "\n"
     ]
    }
   ],
   "source": [
    "sentence = 'a panda in a friend ate my pajamas in a sandwich'\n",
    "parses = list(Lab3.parse_sentence(\"grammar1.txt\", sentence))\n",
    "\n",
    "for tree in parses:\n",
    "    tree.pretty_print()\n",
    "    print(math.log2(tree.prob()), '\\n')"
   ]
  },
  {
   "cell_type": "code",
   "execution_count": 7,
   "id": "d6a6f149",
   "metadata": {},
   "outputs": [
    {
     "name": "stdout",
     "output_type": "stream",
     "text": [
      "prob:-9.45600928033515 \t sent: a panda ate a friend \n",
      "\n",
      "prob:-9.45600928033515 \t sent: her sandwich ate a panda \n",
      "\n",
      "prob:-9.45600928033515 \t sent: my pajamas saw the panda \n",
      "\n",
      "prob:-31.877802845332383 \t sent: my sandwich saw my panda in my sandwich in my pajamas in the panda \n",
      "\n",
      "prob:-31.877802845332386 \t sent: a friend in a friend saw my panda in my panda in the panda \n",
      "\n",
      "prob:-9.45600928033515 \t sent: her friend ate my pajamas \n",
      "\n",
      "prob:-9.45600928033515 \t sent: a panda saw her sandwich \n",
      "\n",
      "prob:-9.45600928033515 \t sent: a friend saw her sandwich \n",
      "\n",
      "prob:-9.45600928033515 \t sent: my panda saw a friend \n",
      "\n",
      "prob:-39.3517340336648 \t sent: the friend ate her friend in a pajamas in a pajamas in a sandwich in the pajamas \n",
      "\n",
      "prob:-9.45600928033515 \t sent: the sandwich ate the sandwich \n",
      "\n",
      "prob:-9.45600928033515 \t sent: a pajamas saw my pajamas \n",
      "\n",
      "prob:-24.40387165699997 \t sent: my panda saw my panda in my panda in the sandwich \n",
      "\n",
      "prob:-9.45600928033515 \t sent: my friend saw a sandwich \n",
      "\n",
      "prob:-9.45600928033515 \t sent: my pajamas ate my sandwich \n",
      "\n",
      "prob:-9.45600928033515 \t sent: a friend ate a panda \n",
      "\n",
      "prob:-9.45600928033515 \t sent: the friend ate a panda \n",
      "\n",
      "prob:-9.45600928033515 \t sent: my sandwich ate the sandwich \n",
      "\n",
      "prob:-9.45600928033515 \t sent: her pajamas saw her pajamas \n",
      "\n",
      "prob:-9.45600928033515 \t sent: my pajamas ate the panda \n",
      "\n",
      "prob:-9.45600928033515 \t sent: her panda ate her friend \n",
      "\n",
      "prob:-9.45600928033515 \t sent: my panda ate my pajamas \n",
      "\n",
      "prob:-16.92994046866756 \t sent: a pajamas saw her pajamas in the friend \n",
      "\n",
      "prob:-9.45600928033515 \t sent: my pajamas ate a pajamas \n",
      "\n",
      "prob:-9.45600928033515 \t sent: my pajamas ate her pajamas \n",
      "\n"
     ]
    }
   ],
   "source": [
    "# 4.\n",
    "grammar1 = Lab3.create_pcfg('grammar1.txt')\n",
    "\n",
    "sentences = Lab3.generate_sentences(grammar1, 25)\n",
    "\n",
    "# Print the sentences lin by line\n",
    "for sent in sentences:\n",
    "    print(f\"prob:{sent[1]} \\t sent: {sent[0]} \\n\")\n"
   ]
  },
  {
   "cell_type": "code",
   "execution_count": 8,
   "id": "08d8abc0",
   "metadata": {},
   "outputs": [],
   "source": [
    "# 5. \n",
    "def is_grammatical(grammar_fname, sent):\n",
    "    \"\"\"\n",
    "    Returns True if sentence is grammatical given grammar, False otherwise\n",
    "    \"\"\"\n",
    "    parses = list(Lab3.parse_sentence(grammar_fname, sent))\n",
    "    if len(parses) > 0:\n",
    "        return True\n",
    "    else:\n",
    "        return False"
   ]
  },
  {
   "cell_type": "markdown",
   "id": "3d9bfbe5-ec5b-49af-b972-d590d3e0be66",
   "metadata": {},
   "source": [
    "## Part 2\n",
    "\n",
    "Answer the questions in Part 2. Feel free to add as many markdown or code chunks as you need. \n"
   ]
  },
  {
   "cell_type": "code",
   "execution_count": 9,
   "id": "627ffbd8",
   "metadata": {},
   "outputs": [
    {
     "name": "stdout",
     "output_type": "stream",
     "text": [
      "Grammaticality Tests (Should be True):\n",
      "'the panda existed': True\n",
      "'the panda ate': True\n",
      "'the panda ate the sandwich': True\n",
      "'the sandwich saw the panda in my friend': True\n",
      "'the sandwich in my friend died in the panda': True\n",
      "'my friend vanished in the sandwich': True\n",
      "'my friend saw the sandwich in the panda in my friend': True\n"
     ]
    }
   ],
   "source": [
    "# Grammatical test cases for grammar2.txt\n",
    "grammatical_sents = [\n",
    "    'the panda existed',\n",
    "    'the panda ate',\n",
    "    'the panda ate the sandwich',\n",
    "    'the sandwich saw the panda in my friend',\n",
    "    'the sandwich in my friend died in the panda',\n",
    "    'my friend vanished in the sandwich',\n",
    "    'my friend saw the sandwich in the panda in my friend'\n",
    "]\n",
    "\n",
    "print('Grammaticality Tests (Should be True):')\n",
    "for sent in grammatical_sents:\n",
    "    result = is_grammatical(\"grammar2.txt\", sent)\n",
    "    print(f\"'{sent}': {result}\")"
   ]
  },
  {
   "cell_type": "code",
   "execution_count": 10,
   "id": "e96527d2",
   "metadata": {},
   "outputs": [
    {
     "name": "stdout",
     "output_type": "stream",
     "text": [
      "\n",
      "Ungrammaticality Tests (Should be False):\n",
      "'the panda vanished my friend': False\n",
      "'the sandwich existed the panda': False\n",
      "'my friend in the sandwich died the panda': False\n",
      "'the panda died the sandwich in my friend': False\n"
     ]
    }
   ],
   "source": [
    "# Ungrammatical test cases for grammar2.txt\n",
    "ungrammatical_sents = [\n",
    "    'the panda vanished my friend',\n",
    "    'the sandwich existed the panda',\n",
    "    'my friend in the sandwich died the panda',\n",
    "    'the panda died the sandwich in my friend'\n",
    "]\n",
    "\n",
    "print('\\nUngrammaticality Tests (Should be False):')\n",
    "for sent in ungrammatical_sents:\n",
    "    result = is_grammatical(\"grammar2.txt\", sent)\n",
    "    print(f\"'{sent}': {result}\")"
   ]
  },
  {
   "cell_type": "markdown",
   "id": "d080df44-7ad3-4bc4-af61-c21886a5d92f",
   "metadata": {},
   "source": [
    "## Part 3\n",
    "\n",
    "Answer the questions in Part 3. Feel free to add as many markdown or code chunks as you need. \n"
   ]
  },
  {
   "cell_type": "code",
   "execution_count": 16,
   "id": "bc1c1fc1",
   "metadata": {},
   "outputs": [
    {
     "name": "stdout",
     "output_type": "stream",
     "text": [
      "Grammaticality Tests for grammar3.txt (Should be True):\n",
      "'the ponderous panda existed': True\n",
      "'the excited excited ponderous panda ate the sandwich': True\n",
      "'the panda saw my very delicious delicious sandwich in my very very ponderous pajamas': True\n",
      "'the panda saw my very very delicious very excited delicious sandwich in my ponderous pajamas': True\n",
      "\n",
      "Ungrammaticality Tests for grammar3.txt (Should be False):\n",
      "'the panda ponderous existed': False\n",
      "'the ponderous panda excited vanished': False\n",
      "'the the ponderous panda excited vanished': False\n",
      "'the panda in the ponderous very pajamas saw my friend': True\n"
     ]
    }
   ],
   "source": [
    "# Grammatical test cases for grammar3.txt\n",
    "grammatical_sents_3 = [\n",
    "    'the ponderous panda existed',\n",
    "    'the excited excited ponderous panda ate the sandwich',\n",
    "    'the panda saw my very delicious delicious sandwich in my very very ponderous pajamas',\n",
    "    'the panda saw my very very delicious very excited delicious sandwich in my ponderous pajamas'\n",
    "]\n",
    "\n",
    "print('Grammaticality Tests for grammar3.txt (Should be True):')\n",
    "for sent in grammatical_sents_3:\n",
    "    result = is_grammatical(\"grammar3.txt\", sent)\n",
    "    print(f\"'{sent}': {result}\")\n",
    "\n",
    "# --------------------------------------------------------\n",
    "\n",
    "# Ungrammatical test cases for grammar3.txt\n",
    "ungrammatical_sents_3 = [\n",
    "    'the panda ponderous existed',\n",
    "    'the ponderous panda excited vanished',\n",
    "    'the the ponderous panda excited vanished',\n",
    "    'the panda in the ponderous very pajamas saw my friend'\n",
    "]\n",
    "\n",
    "print('\\nUngrammaticality Tests for grammar3.txt (Should be False):')\n",
    "for sent in ungrammatical_sents_3:\n",
    "    result = is_grammatical(\"grammar3.txt\", sent)\n",
    "    print(f\"'{sent}': {result}\")"
   ]
  },
  {
   "cell_type": "markdown",
   "id": "6bdbd6bb-5bbd-43f5-9600-1c0d44ef43bf",
   "metadata": {},
   "source": [
    "## Part 4\n",
    "\n",
    "Answer the questions in Part 4. Feel free to add as many markdown or code chunks as you need. \n"
   ]
  },
  {
   "cell_type": "code",
   "execution_count": 14,
   "id": "1c588bc7",
   "metadata": {},
   "outputs": [
    {
     "name": "stdout",
     "output_type": "stream",
     "text": [
      "Grammaticality Tests for grammar4.txt (Should be True):\n"
     ]
    },
    {
     "ename": "FileNotFoundError",
     "evalue": "[Errno 2] No such file or directory: 'grammar4.txt'",
     "output_type": "error",
     "traceback": [
      "\u001b[0;31m---------------------------------------------------------------------------\u001b[0m",
      "\u001b[0;31mFileNotFoundError\u001b[0m                         Traceback (most recent call last)",
      "Cell \u001b[0;32mIn[14], line 17\u001b[0m\n\u001b[1;32m     15\u001b[0m \u001b[38;5;28mprint\u001b[39m(\u001b[38;5;124m'\u001b[39m\u001b[38;5;124mGrammaticality Tests for grammar4.txt (Should be True):\u001b[39m\u001b[38;5;124m'\u001b[39m)\n\u001b[1;32m     16\u001b[0m \u001b[38;5;28;01mfor\u001b[39;00m sent \u001b[38;5;129;01min\u001b[39;00m grammatical_sents_4:\n\u001b[0;32m---> 17\u001b[0m     result \u001b[38;5;241m=\u001b[39m \u001b[43mis_grammatical\u001b[49m\u001b[43m(\u001b[49m\u001b[38;5;124;43m\"\u001b[39;49m\u001b[38;5;124;43mgrammar4.txt\u001b[39;49m\u001b[38;5;124;43m\"\u001b[39;49m\u001b[43m,\u001b[49m\u001b[43m \u001b[49m\u001b[43msent\u001b[49m\u001b[43m)\u001b[49m\n\u001b[1;32m     18\u001b[0m     \u001b[38;5;28mprint\u001b[39m(\u001b[38;5;124mf\u001b[39m\u001b[38;5;124m\"\u001b[39m\u001b[38;5;124m'\u001b[39m\u001b[38;5;132;01m{\u001b[39;00msent\u001b[38;5;132;01m}\u001b[39;00m\u001b[38;5;124m'\u001b[39m\u001b[38;5;124m: \u001b[39m\u001b[38;5;132;01m{\u001b[39;00mresult\u001b[38;5;132;01m}\u001b[39;00m\u001b[38;5;124m\"\u001b[39m)\n\u001b[1;32m     20\u001b[0m \u001b[38;5;66;03m# Ungrammatical test cases for grammar4.txt\u001b[39;00m\n",
      "Cell \u001b[0;32mIn[7], line 6\u001b[0m, in \u001b[0;36mis_grammatical\u001b[0;34m(grammar_fname, sent)\u001b[0m\n\u001b[1;32m      2\u001b[0m \u001b[38;5;28;01mdef\u001b[39;00m\u001b[38;5;250m \u001b[39m\u001b[38;5;21mis_grammatical\u001b[39m(grammar_fname, sent):\n\u001b[1;32m      3\u001b[0m \u001b[38;5;250m    \u001b[39m\u001b[38;5;124;03m\"\"\"\u001b[39;00m\n\u001b[1;32m      4\u001b[0m \u001b[38;5;124;03m    Returns True if sentence is grammatical given grammar, False otherwise\u001b[39;00m\n\u001b[1;32m      5\u001b[0m \u001b[38;5;124;03m    \"\"\"\u001b[39;00m\n\u001b[0;32m----> 6\u001b[0m     parses \u001b[38;5;241m=\u001b[39m \u001b[38;5;28mlist\u001b[39m(\u001b[43mLab3\u001b[49m\u001b[38;5;241;43m.\u001b[39;49m\u001b[43mparse_sentence\u001b[49m\u001b[43m(\u001b[49m\u001b[43mgrammar_fname\u001b[49m\u001b[43m,\u001b[49m\u001b[43m \u001b[49m\u001b[43msent\u001b[49m\u001b[43m)\u001b[49m)\n\u001b[1;32m      7\u001b[0m     \u001b[38;5;28;01mif\u001b[39;00m \u001b[38;5;28mlen\u001b[39m(parses) \u001b[38;5;241m>\u001b[39m \u001b[38;5;241m0\u001b[39m:\n\u001b[1;32m      8\u001b[0m         \u001b[38;5;28;01mreturn\u001b[39;00m \u001b[38;5;28;01mTrue\u001b[39;00m\n",
      "File \u001b[0;32m~/Projects/cosc426-projects/cosc426/labs/lab03/Lab3.py:79\u001b[0m, in \u001b[0;36mparse_sentence\u001b[0;34m(grammar_fname, sentence)\u001b[0m\n\u001b[1;32m     78\u001b[0m \u001b[38;5;28;01mdef\u001b[39;00m\u001b[38;5;250m \u001b[39m\u001b[38;5;21mparse_sentence\u001b[39m(grammar_fname: \u001b[38;5;28mstr\u001b[39m, sentence: \u001b[38;5;28mstr\u001b[39m):\n\u001b[0;32m---> 79\u001b[0m     \u001b[38;5;28;01mwith\u001b[39;00m \u001b[38;5;28;43mopen\u001b[39;49m\u001b[43m(\u001b[49m\u001b[43mgrammar_fname\u001b[49m\u001b[43m,\u001b[49m\u001b[43m \u001b[49m\u001b[38;5;124;43m'\u001b[39;49m\u001b[38;5;124;43mr\u001b[39;49m\u001b[38;5;124;43m'\u001b[39;49m\u001b[43m)\u001b[49m \u001b[38;5;28;01mas\u001b[39;00m f:\n\u001b[1;32m     80\u001b[0m         grammar \u001b[38;5;241m=\u001b[39m nltk\u001b[38;5;241m.\u001b[39mPCFG\u001b[38;5;241m.\u001b[39mfromstring(f\u001b[38;5;241m.\u001b[39mread())\n\u001b[1;32m     81\u001b[0m     \u001b[38;5;28;01mtry\u001b[39;00m:\n",
      "\u001b[0;31mFileNotFoundError\u001b[0m: [Errno 2] No such file or directory: 'grammar4.txt'"
     ]
    }
   ],
   "source": [
    "# Grammatical test cases for grammar4.txt\n",
    "grammatical_sents_4 = [\n",
    "    'the panda vanished peacefully',\n",
    "    'the ponderous pajamas peacefully died',\n",
    "    'the ponderous pajamas existed peacefully in my pajamas',\n",
    "    'the panda peacefully saw the ponderous friend in my pajamas',\n",
    "    'the panda saw the ponderous friend peacefully in my pajamas',\n",
    "    'the panda saw the ponderous friend in my pajamas peacefully',\n",
    "    'my very very ponderous friend existed very very very peacefully',\n",
    "    'my friend ate the excited delicious sandwich peacefully joyfully in my pajamas',\n",
    "    # Optional:\n",
    "    'peacefully the ponderous pajamas died'\n",
    "]\n",
    "\n",
    "print('Grammaticality Tests for grammar4.txt (Should be True):')\n",
    "for sent in grammatical_sents_4:\n",
    "    result = is_grammatical(\"grammar4.txt\", sent)\n",
    "    print(f\"'{sent}': {result}\")\n",
    "\n",
    "# Ungrammatical test cases for grammar4.txt\n",
    "ungrammatical_sents_4 = [\n",
    "    'my ponderous friend existed peacefully very very',\n",
    "    'my friend very saw the sandwich in the pajamas',\n",
    "    'my friend very saw peacefully the sandwich in the pajamas',\n",
    "    'the joyfully pajamas saw the sandwich in the pajamas',\n",
    "    # Optional:\n",
    "    'the panda joyfully vanished peacefully'\n",
    "]\n",
    "\n",
    "print('\\nUngrammaticality Tests for grammar4.txt (Should be False):')\n",
    "for sent in ungrammatical_sents_4:\n",
    "    result = is_grammatical(\"grammar4.txt\", sent)\n",
    "    print(f\"'{sent}': {result}\")"
   ]
  },
  {
   "cell_type": "markdown",
   "id": "9978136a-10e0-4d16-945a-43c0497c5ba9",
   "metadata": {},
   "source": [
    "## Part 5\n",
    "\n",
    "Answer the questions in Part 5. Feel free to add as many markdown or code chunks as you need. \n"
   ]
  },
  {
   "cell_type": "code",
   "execution_count": null,
   "id": "a0e6a41a",
   "metadata": {},
   "outputs": [],
   "source": [
    "# Grammatical test cases for grammar5.txt\n",
    "grammatical_sents_5 = [\n",
    "    'the panda that existed very peacefully vanished joyfully',\n",
    "    'my friend saw the panda that existed very peacefully',\n",
    "    'the panda that existed very joyfully died peacefully',\n",
    "    'the panda saw my friend that joyfully ate the sanwich in her pajamas',\n",
    "    'the panda saw my very excited friend in her pajamas that joyfully peacefully existed'\n",
    "]\n",
    "\n",
    "print('Grammaticality Tests for grammar5.txt (Should be True):')\n",
    "for sent in grammatical_sents_5:\n",
    "    result = is_grammatical(\"grammar5.txt\", sent)\n",
    "    print(f\"'{sent}': {result}\")\n",
    "\n",
    "# Ungrammatical test cases for grammar5.txt\n",
    "ungrammatical_sents_5 = [\n",
    "    'the panda that existed my friend ate the sandwich',\n",
    "    'the sandwich saw that my friend existed',\n",
    "    'the panda that vanished peacefully in my friend',\n",
    "    'the panda existed very joyfully died peacefully'\n",
    "]\n",
    "\n",
    "print('\\nUngrammaticality Tests for grammar5.txt (Should be False):')\n",
    "for sent in ungrammatical_sents_5:\n",
    "    result = is_grammatical(\"grammar5.txt\", sent)\n",
    "    print(f\"'{sent}': {result}\")"
   ]
  },
  {
   "cell_type": "markdown",
   "id": "772b41ba-3d9f-4dc9-b2f0-28cc84ffebc9",
   "metadata": {},
   "source": [
    "## Part 6\n",
    "\n",
    "Answer the questions in Part 6. Feel free to add as many markdown or code chunks as you need. \n"
   ]
  },
  {
   "cell_type": "code",
   "execution_count": null,
   "id": "1155a62f",
   "metadata": {},
   "outputs": [],
   "source": [
    "# Grammatical test cases for grammar6.txt\n",
    "grammatical_sents_6 = [\n",
    "    'that my friend ate the excited delicious sandwich peacefully joyfully in my pajamas pleased the panda',\n",
    "    'that the excited panda vanished peacefully perplexed my friend',\n",
    "    'that my friend in the pajamas saw the very very very excited panda surprised the sandwich',\n",
    "    'that the panda that existed very peacefully vanished joyfully perplexed my friend',\n",
    "    'that the panda that existed very peacefully vanished joyfully perplexed my friend that ate the sandwich'\n",
    "]\n",
    "\n",
    "print('Grammaticality Tests for grammar6.txt (Should be True):')\n",
    "for sent in grammatical_sents_6:\n",
    "    result = is_grammatical(\"grammar6.txt\", sent)\n",
    "    print(f\"'{sent}': {result}\")\n",
    "\n",
    "# Ungrammatical test cases for grammar6.txt\n",
    "ungrammatical_sents_6 = [\n",
    "    'that my friend pleased the panda ate the excited delicious sandwich',\n",
    "    'that the excited panda vanished peacefully perplexed',\n",
    "    'my friend in the pajamas saw the very very very excited panda surprised the sandwich',\n",
    "    'that the panda existed very peacefully vanished joyfully surprised my friend that'\n",
    "]\n",
    "\n",
    "print('\\nUngrammaticality Tests for grammar6.txt (Should be False):')\n",
    "for sent in ungrammatical_sents_6:\n",
    "    result = is_grammatical(\"grammar6.txt\", sent)\n",
    "    print(f\"'{sent}': {result}\")"
   ]
  }
 ],
 "metadata": {
  "kernelspec": {
   "display_name": "nlp",
   "language": "python",
   "name": "python3"
  },
  "language_info": {
   "codemirror_mode": {
    "name": "ipython",
    "version": 3
   },
   "file_extension": ".py",
   "mimetype": "text/x-python",
   "name": "python",
   "nbconvert_exporter": "python",
   "pygments_lexer": "ipython3",
   "version": "3.10.18"
  }
 },
 "nbformat": 4,
 "nbformat_minor": 5
}
